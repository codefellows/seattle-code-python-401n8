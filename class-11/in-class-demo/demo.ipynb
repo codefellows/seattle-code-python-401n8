{
 "cells": [
  {
   "cell_type": "code",
   "execution_count": 1,
   "id": "6a9cfba3",
   "metadata": {},
   "outputs": [
    {
     "name": "stdout",
     "output_type": "stream",
     "text": [
      "hello class!\n"
     ]
    }
   ],
   "source": [
    "print(\"hello class!\")"
   ]
  },
  {
   "cell_type": "markdown",
   "id": "3f1995cf",
   "metadata": {},
   "source": [
    "# h1"
   ]
  },
  {
   "cell_type": "markdown",
   "id": "1ca7eaed",
   "metadata": {},
   "source": [
    "## h2"
   ]
  },
  {
   "cell_type": "markdown",
   "id": "1bd33501",
   "metadata": {},
   "source": [
    "Normal text\n",
    "\n",
    "\n",
    "- 1\n",
    "- 2\n",
    "- 3"
   ]
  },
  {
   "cell_type": "code",
   "execution_count": 2,
   "id": "8979360d",
   "metadata": {},
   "outputs": [],
   "source": [
    "name = \"Adam Owada\""
   ]
  },
  {
   "cell_type": "code",
   "execution_count": 7,
   "id": "2c98cb30",
   "metadata": {},
   "outputs": [
    {
     "name": "stdout",
     "output_type": "stream",
     "text": [
      "Adam Owada\n"
     ]
    }
   ],
   "source": [
    "print(name)"
   ]
  },
  {
   "cell_type": "code",
   "execution_count": null,
   "id": "93d5812d",
   "metadata": {},
   "outputs": [],
   "source": []
  }
 ],
 "metadata": {
  "kernelspec": {
   "display_name": "Python 3 (ipykernel)",
   "language": "python",
   "name": "python3"
  },
  "language_info": {
   "codemirror_mode": {
    "name": "ipython",
    "version": 3
   },
   "file_extension": ".py",
   "mimetype": "text/x-python",
   "name": "python",
   "nbconvert_exporter": "python",
   "pygments_lexer": "ipython3",
   "version": "3.10.9"
  }
 },
 "nbformat": 4,
 "nbformat_minor": 5
}
