{
 "cells": [
  {
   "cell_type": "markdown",
   "id": "568dfd93",
   "metadata": {},
   "source": [
    "---\n",
    "\n",
    "### 1: Introduction to Numpy and Arrays\n",
    "\n",
    "---"
   ]
  },
  {
   "cell_type": "markdown",
   "id": "1e6e0030",
   "metadata": {},
   "source": [
    "**Introduction to Numpy**\n",
    "\n",
    "_Notes:_\n",
    "Numpy (Numerical Python) is one of the most fundamental packages for numerical computations in Python. It provides support for large multidimensional arrays, as well as an assortment of mathematical functions to operate on these arrays."
   ]
  },
  {
   "cell_type": "code",
   "execution_count": 1,
   "id": "e9e0432d",
   "metadata": {},
   "outputs": [],
   "source": [
    "# Importing the Numpy module\n",
    "import numpy as np\n"
   ]
  },
  {
   "cell_type": "markdown",
   "id": "b9dcbad7",
   "metadata": {},
   "source": [
    "_Analogy:_\n",
    "Think of Numpy as a powerful calculator that not only performs basic arithmetic but can also handle large data sets and matrices.\n",
    "\n",
    "---"
   ]
  },
  {
   "cell_type": "markdown",
   "id": "bc14c612",
   "metadata": {},
   "source": [
    "**Creating Arrays**\n",
    "\n",
    "_Notes:_\n",
    "Arrays are the main data structure used in Numpy. They can be thought of as lists in Python but with additional features and optimized for numerical computation.\n",
    "\n",
    "- **From lists and tuples:**\n",
    "  - **Use case:** You have data in a Python-native format (like lists or tuples) that you want to perform numerical operations on or use with other libraries/tools that accept Numpy arrays."
   ]
  },
  {
   "cell_type": "code",
   "execution_count": 9,
   "id": "b395286b",
   "metadata": {},
   "outputs": [],
   "source": [
    "# Creating a one-dimensional array from a list\n",
    "arr_from_list = np.array([1, 2, 3, 4])\n",
    "\n",
    "# Creating a two-dimensional array from a list of lists\n",
    "arr_2d = np.array([[1, \"2\"], [3, 4]])\n",
    "\n",
    "# Creating an array from a tuple\n",
    "arr_from_tuple = np.array((5, 6, 7, 8))\n"
   ]
  },
  {
   "cell_type": "code",
   "execution_count": 10,
   "id": "dc661ee3",
   "metadata": {},
   "outputs": [
    {
     "name": "stdout",
     "output_type": "stream",
     "text": [
      "[1 2 3 4]\n",
      "[['1' '2']\n",
      " ['3' '4']]\n",
      "[5 6 7 8]\n"
     ]
    }
   ],
   "source": [
    "print(arr_from_list)\n",
    "print(arr_2d)\n",
    "print(arr_from_tuple)"
   ]
  },
  {
   "cell_type": "markdown",
   "id": "1f7c3562",
   "metadata": {},
   "source": [
    "b. **Using Numpy functions**\n",
    "  - **zeros()**:\n",
    "    - **Use case:** Initializing arrays for algorithms where the initial values should be zero, e.g., in some iterative algorithms.\n",
    "  - **ones()**:\n",
    "    - **Use case:** Initializing arrays for algorithms where the initial values should be one, e.g., for creating masks in image processing.\n",
    "  - **arange()**:\n",
    "    - **Use case:** When you need a sequence of numbers with a specific step size, e.g., for creating time steps in simulations.\n",
    "  - **linspace()**:\n",
    "    - **Use case:** When you want a specified number of equally spaced points between two values, e.g., evaluating a function at regular intervals."
   ]
  },
  {
   "cell_type": "code",
   "execution_count": 24,
   "id": "6208617b",
   "metadata": {},
   "outputs": [],
   "source": [
    "# Creating an array of zeros\n",
    "zero_arr = np.zeros(5)\n",
    "\n",
    "# Creating a 2x3 matrix of ones\n",
    "ones_matrix = np.ones((3, 4, 2))\n",
    "\n",
    "# Creating an array with a range of numbers\n",
    "range_arr = np.arange(5, 10)  # [5, 6, 7, 8, 9]\n",
    "\n",
    "# Generating linearly spaced numbers between two values\n",
    "linspace_arr = np.linspace(0, 1, 10)  # [0.  , 0.25, 0.5 , 0.75, 1.  ]\n"
   ]
  },
  {
   "cell_type": "code",
   "execution_count": 26,
   "id": "8533e700",
   "metadata": {},
   "outputs": [
    {
     "data": {
      "text/plain": [
       "(10,)"
      ]
     },
     "execution_count": 26,
     "metadata": {},
     "output_type": "execute_result"
    }
   ],
   "source": [
    "zero_arr\n",
    "ones_matrix\n",
    "range_arr\n",
    "linspace_arr.shape"
   ]
  },
  {
   "cell_type": "markdown",
   "id": "b95c18e8",
   "metadata": {},
   "source": [
    "_Analogy:_\n",
    "Think of creating a Numpy array as organizing a group of data points in rows (like a spreadsheet). The Numpy functions are shortcuts for creating these organized groups without manually entering each data point.\n",
    "\n",
    "---"
   ]
  },
  {
   "cell_type": "markdown",
   "id": "0c6b6083",
   "metadata": {},
   "source": [
    "**Attributes of Numpy Arrays**\n",
    "\n",
    "_Notes:_\n",
    "Each Numpy array has attributes that provide information about its structure and type.\n",
    "\n",
    "- **Shape**:\n",
    "  - **Use case:** When you need to know the dimensions of your data. Especially useful in machine learning where specific shapes of arrays are required for model training (e.g., (samples, features)).\n",
    "  \n",
    "- **Number of dimensions (ndim)**:\n",
    "  - **Use case:** Useful to distinguish between scalars, vectors (1D arrays), matrices (2D arrays), and higher-dimensional structures, especially when writing generalized code that should work for arrays of any dimension.\n",
    "  \n",
    "- **Size**:\n",
    "  - **Use case:** When you need to ascertain the total number of elements in your array, e.g., to check if two arrays have the same size before combining them.\n",
    "  \n",
    "- **Data type (dtype)**:\n",
    "  - **Use case:** Ensuring compatibility with other libraries/tools, optimizing memory usage, or when certain operations require specific data types."
   ]
  },
  {
   "cell_type": "code",
   "execution_count": 27,
   "id": "d3d82c1a",
   "metadata": {},
   "outputs": [
    {
     "name": "stdout",
     "output_type": "stream",
     "text": [
      "Shape: (3, 3)\n",
      "Number of Dimensions: 2\n",
      "Size: 9\n",
      "Data Type: int64\n"
     ]
    }
   ],
   "source": [
    "arr = np.array([[1, 2, 3], [4, 5, 6], [7, 8, 9]])\n",
    "\n",
    "# Shape of the array: shows the dimension\n",
    "print(\"Shape:\", arr.shape)  # (3, 3)\n",
    "\n",
    "# Number of dimensions\n",
    "print(\"Number of Dimensions:\", arr.ndim)  # 2\n",
    "\n",
    "# Total number of elements\n",
    "print(\"Size:\", arr.size)  # 9\n",
    "\n",
    "# Data type of the elements\n",
    "print(\"Data Type:\", arr.dtype)  # int64 (or another integer type, depending on the platform)\n"
   ]
  },
  {
   "cell_type": "markdown",
   "id": "e9e38259",
   "metadata": {},
   "source": [
    "\n",
    "_Analogy:_\n",
    "If the array is like a spreadsheet, then these attributes are like the specifications of the spreadsheet (number of columns, rows, cell format, etc.).\n",
    "\n",
    "---\n"
   ]
  },
  {
   "cell_type": "markdown",
   "id": "192cfa82",
   "metadata": {},
   "source": [
    "**Basic Operations**\n",
    "\n",
    "a. **Arithmetic operations**\n",
    "\n",
    "_Notes:_\n",
    "You can perform element-wise operations on arrays easily.\n",
    "\n",
    "- **Arithmetic operations**:\n",
    "  - **Use case:** Any situation where you want to perform element-wise operations between arrays, like adding two sets of data points or multiplying matrices. For instance, if you have two datasets representing sales from two different months and want to get their combined sales, you'd use addition.\n",
    "  \n",
    "- **Broadcasting**:\n",
    "  - **Use case:** Operations between arrays of different shapes. A common example is when you have data in a 2D array (like a matrix of pixel values in an image) and you want to adjust all values using a 1D array (like adjusting RGB values using a single vector). Another example is scaling features in a machine learning dataset where you subtract the mean (a 1D array) from all rows of a 2D data matrix."
   ]
  },
  {
   "cell_type": "code",
   "execution_count": 32,
   "id": "f01c8e45",
   "metadata": {},
   "outputs": [
    {
     "name": "stdout",
     "output_type": "stream",
     "text": [
      "Addition: [5 7 9]\n",
      "Subtraction: [-3 -3 -3]\n",
      "Multiplication: [ 4 10 18]\n",
      "Division: [0.25 0.4  0.5 ]\n"
     ]
    }
   ],
   "source": [
    "a = np.array([1, 2, 3])\n",
    "b = np.array([4, 5, 6])\n",
    "\n",
    "print(\"Addition:\", a + b)    # [5, 7, 9]\n",
    "print(\"Subtraction:\", a - b) # [-3, -3, -3]\n",
    "print(\"Multiplication:\", a * b)  # [4, 10, 18]\n",
    "print(\"Division:\", a / b)  # [0.25, 0.4, 0.5]\n"
   ]
  },
  {
   "cell_type": "markdown",
   "id": "06527207",
   "metadata": {},
   "source": [
    "b. **Broadcasting**\n",
    "\n",
    "_Notes:_\n",
    "Broadcasting is a powerful mechanism that allows Numpy to work with arrays of different shapes. In simpler terms, it lets you perform operations between a smaller array and a larger array.\n",
    "\n",
    "- **Arithmetic operations**:\n",
    "  - **Use case:** Any situation where you want to perform element-wise operations between arrays, like adding two sets of data points or multiplying matrices. For instance, if you have two datasets representing sales from two different months and want to get their combined sales, you'd use addition.\n",
    "  \n",
    "- **Broadcasting**:\n",
    "  - **Use case:** Operations between arrays of different shapes. A common example is when you have data in a 2D array (like a matrix of pixel values in an image) and you want to adjust all values using a 1D array (like adjusting RGB values using a single vector). Another example is scaling features in a machine learning dataset where you subtract the mean (a 1D array) from all rows of a 2D data matrix."
   ]
  },
  {
   "cell_type": "code",
   "execution_count": 33,
   "id": "a323d335",
   "metadata": {},
   "outputs": [
    {
     "data": {
      "text/plain": [
       "array([[ 2,  2,  4],\n",
       "       [ 5,  5,  7],\n",
       "       [ 8,  8, 10]])"
      ]
     },
     "execution_count": 33,
     "metadata": {},
     "output_type": "execute_result"
    }
   ],
   "source": [
    "# Broadcasting in action\n",
    "c = np.array([[1, 2, 3], [4, 5, 6], [7, 8, 9]])\n",
    "d = np.array([1, 0, 1])\n",
    "\n",
    "# This will add the d array to each row of c\n",
    "result = c + d\n",
    "result\n"
   ]
  },
  {
   "cell_type": "markdown",
   "id": "8f2dab0b",
   "metadata": {},
   "source": [
    "_Analogy:_\n",
    "Imagine you're applying a discount (like subtracting a fixed amount) to all items in a price list. Instead of manually subtracting the discount from each item, broadcasting lets you apply the discount to all items at once.\n"
   ]
  },
  {
   "cell_type": "markdown",
   "id": "8ad8f971",
   "metadata": {},
   "source": [
    "---\n",
    "\n",
    "### 2: Advanced Array Manipulation\n",
    "\n",
    "The essence of these array manipulations is to efficiently prepare, transform, and retrieve data for a myriad of applications. Whether you're performing complex mathematical operations, data analysis, or preparing data for machine learning models, these tools are fundamental in ensuring that data is in the right shape and form.\n",
    "\n",
    "---"
   ]
  },
  {
   "cell_type": "markdown",
   "id": "a00f4b33",
   "metadata": {},
   "source": [
    "**1. Indexing and Slicing**\n",
    "\n",
    "**Situations & Use Cases:**\n",
    "- **Basic Slicing**: When you want to access specific parts of your dataset. E.g., you might only want the first 10 entries from a time series dataset to visualize the initial trend.\n",
    "  \n",
    "- **Boolean Indexing**: Useful in filtering data based on a condition. E.g., from an array of grades, you might want to quickly find all grades above 90.\n",
    "  \n",
    "- **Fancy Indexing**: When you have specific indices of data you're interested in. E.g., in a simulation, you might only want to analyze the results at specific time intervals given by their indices."
   ]
  },
  {
   "cell_type": "code",
   "execution_count": 41,
   "id": "e7461663",
   "metadata": {},
   "outputs": [
    {
     "name": "stdout",
     "output_type": "stream",
     "text": [
      "[0 1 2 3 4 5 6 7 8 9]\n",
      "5\n",
      "[2 3 4]\n",
      "[1 3 5 7]\n",
      "6\n"
     ]
    }
   ],
   "source": [
    "import numpy as np\n",
    "\n",
    "# Create a simple 1D array\n",
    "arr = np.arange(10)\n",
    "print(arr)  # Output: [0 1 2 3 4 5 6 7 8 9]\n",
    "\n",
    "# Basic slicing\n",
    "print(arr[5])    # Output: 5\n",
    "print(arr[2:5])  # Output: [2 3 4]\n",
    "\n",
    "# Step in slicing\n",
    "print(arr[1:8:2])  # Output: [1 3 5 7]\n",
    "\n",
    "# Slicing in 2D arrays (analogous to matrix)\n",
    "arr2 = np.array([[1, 2, 3], [4, 5, 6], [7, 8, 9]])\n",
    "print(arr2[1, 2])  # Output: 6  (second row, third column)\n"
   ]
  },
  {
   "cell_type": "markdown",
   "id": "ce856878",
   "metadata": {},
   "source": [
    "*Note:* Think of slicing as cutting a cake. If you slice from 2 to 5, you're taking pieces 2, 3, and 4. The end index is exclusive.\n"
   ]
  },
  {
   "cell_type": "code",
   "execution_count": 42,
   "id": "d89d2d60",
   "metadata": {},
   "outputs": [
    {
     "name": "stdout",
     "output_type": "stream",
     "text": [
      "[6 7 8 9]\n",
      "[1 3 5]\n"
     ]
    }
   ],
   "source": [
    "# Boolean indexing\n",
    "print(arr[arr > 5])  # Output: [6 7 8 9]\n",
    "\n",
    "# Fancy indexing\n",
    "indices = np.array([1, 3, 5])\n",
    "print(arr[indices])  # Output: [1 3 5]\n"
   ]
  },
  {
   "cell_type": "markdown",
   "id": "34191271",
   "metadata": {},
   "source": [
    "*Big Picture:* This method of array manipulation allows direct, efficient access to array's data, making operations streamlined and fast.\n",
    "\n",
    "---"
   ]
  },
  {
   "cell_type": "markdown",
   "id": "a492c384",
   "metadata": {},
   "source": [
    "**2. Reshaping Arrays**\n",
    "\n",
    "**Situations & Use Cases:**\n",
    "- **Reshape**: \n",
    "  - Changing the representation of image data. E.g., an RGB image might be stored as a 3D array, but for certain operations, you'd want to reshape it into a long 1D array.\n",
    "  - Preparing data for machine learning models. Many models require data in a specific shape.\n",
    "\n",
    "- **Ravel (Flatten)**: \n",
    "  - When you need a flat representation of your data. E.g., when you want to serialize your data or prepare it for a model that requires 1D input."
   ]
  },
  {
   "cell_type": "code",
   "execution_count": 46,
   "id": "554a8348",
   "metadata": {},
   "outputs": [
    {
     "name": "stdout",
     "output_type": "stream",
     "text": [
      "[0 1 2 3 4 5 6 7 8 9]\n",
      "\n",
      "[[0 1 2 3 4]\n",
      " [5 6 7 8 9]]\n",
      "[0 1 2 3 4 5 6 7 8 9]\n"
     ]
    }
   ],
   "source": [
    "# Reshape\n",
    "print(arr)\n",
    "print(\"\")\n",
    "arr_reshaped = arr.reshape(2, 5)\n",
    "print(arr_reshaped)\n",
    "# Output:\n",
    "# [[0 1 2 3 4]\n",
    "#  [5 6 7 8 9]]\n",
    "\n",
    "# Ravel - Flattening the array\n",
    "flat = arr_reshaped.ravel()\n",
    "print(flat)  # Output: [0 1 2 3 4 5 6 7 8 9]\n"
   ]
  },
  {
   "cell_type": "markdown",
   "id": "49b650cd",
   "metadata": {},
   "source": [
    "*Note:* Always be sure that the dimensions you're reshaping into make sense. For example, a size-10 array can be reshaped into (2, 5) or (5, 2) but not (3, 4).\n",
    "\n",
    "---\n",
    "\n",
    "\n",
    "**3. Stacking and Splitting Arrays**\n",
    "\n",
    "**Situations & Use Cases:**\n",
    "- **Vertical and Horizontal Stacking**: \n",
    "  - Combining two datasets. E.g., if you have data from two sensors recording the same type of data, but in different arrays, and you want to analyze them together.\n",
    "  - Adding features (columns) or samples (rows) to an existing dataset.\n",
    "\n",
    "- **Splitting Arrays**: \n",
    "  - Cross-validation in machine learning, where you'd divide a dataset into 'k' chunks.\n",
    "  - Distributing parts of a dataset to different processors in parallel computing."
   ]
  },
  {
   "cell_type": "code",
   "execution_count": null,
   "id": "de9fe8b3",
   "metadata": {},
   "outputs": [],
   "source": [
    "# Vertical and Horizontal Stacking\n",
    "a = np.array([1, 2, 3])\n",
    "b = np.array([4, 5, 6])\n",
    "\n",
    "vstacked = np.vstack((a, b))\n",
    "print(vstacked)\n",
    "# Output:\n",
    "# [[1 2 3]\n",
    "#  [4 5 6]]\n",
    "\n",
    "hstacked = np.hstack((a, b))\n",
    "print(hstacked)  # Output: [1 2 3 4 5 6]\n"
   ]
  },
  {
   "cell_type": "markdown",
   "id": "20f258eb",
   "metadata": {},
   "source": [
    "*Analogy:* Stacking is like stacking Lego blocks on top of each other (vstack) or side-by-side (hstack).\n"
   ]
  },
  {
   "cell_type": "code",
   "execution_count": null,
   "id": "89c6ec4f",
   "metadata": {},
   "outputs": [],
   "source": [
    "# Splitting arrays\n",
    "x = np.arange(9.0)\n",
    "np.split(x, 3)\n",
    "# Output: [array([0., 1., 2.]), array([3., 4., 5.]), array([6., 7., 8.])]\n"
   ]
  },
  {
   "cell_type": "markdown",
   "id": "eae08873",
   "metadata": {},
   "source": [
    "*Note:* The number provided to split tells how many equal sized chunks should be made.\n",
    "\n",
    "---\n",
    "\n",
    "**4. Transposing and Swapping Axes**\n",
    "\n",
    "**Situations & Use Cases:**\n",
    "- **Transposing**:\n",
    "  - Linear algebra operations, such as matrix multiplication, where you need to multiply a matrix by its transpose.\n",
    "  - Switching between row-major and column-major data layouts. E.g., some libraries or languages might expect data in a different orientation.\n",
    "  \n",
    "- **Swapping Axes**:\n",
    "  - Reordering dimensions in multidimensional arrays. This is commonly seen in data related to images, where different libraries expect channels (like RGB) in different orders."
   ]
  },
  {
   "cell_type": "code",
   "execution_count": null,
   "id": "71ce7b7a",
   "metadata": {},
   "outputs": [],
   "source": [
    "arr2 = np.array([[1, 2, 3], [4, 5, 6], [7, 8, 9]])\n",
    "transposed = arr2.T\n",
    "print(transposed)\n",
    "# Output:\n",
    "# [[1 4 7]\n",
    "#  [2 5 8]\n",
    "#  [3 6 9]]\n"
   ]
  },
  {
   "cell_type": "markdown",
   "id": "3d27edb1",
   "metadata": {},
   "source": [
    "*Big Picture:* Transposing is often used in matrix algebra and linear transformations. It swaps rows with columns."
   ]
  },
  {
   "cell_type": "code",
   "execution_count": null,
   "id": "e6b13573",
   "metadata": {},
   "outputs": [],
   "source": []
  }
 ],
 "metadata": {
  "kernelspec": {
   "display_name": "Python 3 (ipykernel)",
   "language": "python",
   "name": "python3"
  },
  "language_info": {
   "codemirror_mode": {
    "name": "ipython",
    "version": 3
   },
   "file_extension": ".py",
   "mimetype": "text/x-python",
   "name": "python",
   "nbconvert_exporter": "python",
   "pygments_lexer": "ipython3",
   "version": "3.10.9"
  }
 },
 "nbformat": 4,
 "nbformat_minor": 5
}
